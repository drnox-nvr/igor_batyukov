{
 "cells": [
  {
   "cell_type": "markdown",
   "metadata": {
    "id": "IQw4ZlGverW0"
   },
   "source": [
    "Загрузка PySpark"
   ]
  },
  {
   "cell_type": "code",
   "execution_count": 1,
   "metadata": {
    "id": "B0lCwoIEfBhT"
   },
   "outputs": [],
   "source": [
    "import findspark\n",
    "findspark.init()\n",
    "\n",
    "location = findspark.find()\n",
    "\n",
    "import os\n",
    "os.environ[\"JAVA_HOME\"] = \"/usr/lib/jvm/java-8-openjdk-amd64\"\n",
    "os.environ[\"SPARK_HOME\"] = location"
   ]
  },
  {
   "cell_type": "code",
   "execution_count": 5,
   "metadata": {
    "id": "hjNRn0ZgfEKJ"
   },
   "outputs": [],
   "source": [
    "from pyspark.sql import SparkSession\n",
    "\n",
    "\n",
    "spark = SparkSession.builder.getOrCreate()\n",
    "\n",
    "\n",
    "sc = spark.sparkContext"
   ]
  },
  {
   "cell_type": "code",
   "execution_count": 3,
   "metadata": {},
   "outputs": [],
   "source": [
    "import pandas as pd\n",
    "import numpy as np\n",
    "\n",
    "import matplotlib.pyplot as plt\n",
    "%matplotlib inline\n",
    "\n",
    "import warnings\n",
    "warnings.filterwarnings('ignore')"
   ]
  },
  {
   "cell_type": "code",
   "execution_count": 4,
   "metadata": {
    "id": "494uad_NAtla"
   },
   "outputs": [],
   "source": [
    "df=spark.read.csv('./iris.csv', inferSchema=True, header=True)"
   ]
  },
  {
   "cell_type": "code",
   "execution_count": 10,
   "metadata": {},
   "outputs": [
    {
     "name": "stdout",
     "output_type": "stream",
     "text": [
      "+-------+------------------+-------------------+------------------+------------------+---------+\n",
      "|summary|      sepal.length|        sepal.width|      petal.length|       petal.width|  variety|\n",
      "+-------+------------------+-------------------+------------------+------------------+---------+\n",
      "|  count|               150|                150|               150|               150|      150|\n",
      "|   mean| 5.843333333333335|  3.057333333333334|3.7580000000000027| 1.199333333333334|     null|\n",
      "| stddev|0.8280661279778637|0.43586628493669793|1.7652982332594662|0.7622376689603467|     null|\n",
      "|    min|               4.3|                2.0|               1.0|               0.1|   Setosa|\n",
      "|    max|               7.9|                4.4|               6.9|               2.5|Virginica|\n",
      "+-------+------------------+-------------------+------------------+------------------+---------+\n",
      "\n"
     ]
    }
   ],
   "source": [
    "df.describe().show()"
   ]
  },
  {
   "cell_type": "code",
   "execution_count": 6,
   "metadata": {
    "id": "LfCnmjYoB18q"
   },
   "outputs": [],
   "source": [
    "df1 = df.withColumnRenamed('sepal.length','sl') \\\n",
    "        .withColumnRenamed('sepal.width','sw') \\\n",
    "        .withColumnRenamed('petal.length','pl') \\\n",
    "        .withColumnRenamed('petal.width','pw')"
   ]
  },
  {
   "cell_type": "code",
   "execution_count": 19,
   "metadata": {},
   "outputs": [
    {
     "data": {
      "text/plain": [
       "[Row(sl=5.1, sw=3.5, pl=1.4, pw=0.2, variety='Setosa'),\n",
       " Row(sl=4.9, sw=3.0, pl=1.4, pw=0.2, variety='Setosa'),\n",
       " Row(sl=4.7, sw=3.2, pl=1.3, pw=0.2, variety='Setosa'),\n",
       " Row(sl=4.6, sw=3.1, pl=1.5, pw=0.2, variety='Setosa'),\n",
       " Row(sl=5.0, sw=3.6, pl=1.4, pw=0.2, variety='Setosa')]"
      ]
     },
     "execution_count": 19,
     "metadata": {},
     "output_type": "execute_result"
    }
   ],
   "source": [
    "df1.take(5)"
   ]
  },
  {
   "cell_type": "code",
   "execution_count": 23,
   "metadata": {},
   "outputs": [
    {
     "name": "stdout",
     "output_type": "stream",
     "text": [
      "+----------+-------+-------+-------+-------+\n",
      "|   variety|max(sl)|max(sw)|max(pl)|max(pw)|\n",
      "+----------+-------+-------+-------+-------+\n",
      "| Virginica|    7.9|    3.8|    6.9|    2.5|\n",
      "|    Setosa|    5.8|    4.4|    1.9|    0.6|\n",
      "|Versicolor|    7.0|    3.4|    5.1|    1.8|\n",
      "+----------+-------+-------+-------+-------+\n",
      "\n"
     ]
    }
   ],
   "source": [
    "df1.groupBy('variety').max().show()"
   ]
  },
  {
   "cell_type": "code",
   "execution_count": 24,
   "metadata": {},
   "outputs": [
    {
     "name": "stdout",
     "output_type": "stream",
     "text": [
      "+----------+-------+-------+-------+-------+\n",
      "|   variety|min(sl)|min(sw)|min(pl)|min(pw)|\n",
      "+----------+-------+-------+-------+-------+\n",
      "| Virginica|    4.9|    2.2|    4.5|    1.4|\n",
      "|    Setosa|    4.3|    2.3|    1.0|    0.1|\n",
      "|Versicolor|    4.9|    2.0|    3.0|    1.0|\n",
      "+----------+-------+-------+-------+-------+\n",
      "\n"
     ]
    }
   ],
   "source": [
    "df1.groupBy('variety').min().show()"
   ]
  },
  {
   "cell_type": "code",
   "execution_count": 26,
   "metadata": {},
   "outputs": [
    {
     "name": "stdout",
     "output_type": "stream",
     "text": [
      "+----------+-----------------+------------------+------------------+------------------+\n",
      "|   variety|          avg(sl)|           avg(sw)|           avg(pl)|           avg(pw)|\n",
      "+----------+-----------------+------------------+------------------+------------------+\n",
      "| Virginica|6.587999999999998|2.9739999999999998|             5.552|             2.026|\n",
      "|    Setosa|5.005999999999999| 3.428000000000001|1.4620000000000002|0.2459999999999999|\n",
      "|Versicolor|            5.936|2.7700000000000005|              4.26|1.3259999999999998|\n",
      "+----------+-----------------+------------------+------------------+------------------+\n",
      "\n"
     ]
    }
   ],
   "source": [
    "df1.groupBy('variety').mean().show()"
   ]
  },
  {
   "cell_type": "code",
   "execution_count": 7,
   "metadata": {},
   "outputs": [],
   "source": [
    "pdf = df1.toPandas()"
   ]
  },
  {
   "cell_type": "code",
   "execution_count": 8,
   "metadata": {
    "colab": {
     "base_uri": "https://localhost:8080/"
    },
    "executionInfo": {
     "elapsed": 310,
     "status": "ok",
     "timestamp": 1639152914394,
     "user": {
      "displayName": "Марианна Чаруйская",
      "photoUrl": "https://lh3.googleusercontent.com/a/default-user=s64",
      "userId": "01085229544911187662"
     },
     "user_tz": -180
    },
    "id": "CA-wTNYiH8eO",
    "outputId": "213e9450-3567-47a7-86b2-2ad610115246"
   },
   "outputs": [],
   "source": [
    "import seaborn as sns\n",
    "sns.set(rc={'figure.figsize':(15,8)})"
   ]
  },
  {
   "cell_type": "code",
   "execution_count": 10,
   "metadata": {},
   "outputs": [
    {
     "data": {
      "image/png": "[encoded data removed]",
      "text/plain": [
       "<Figure size 1080x576 with 1 Axes>"
      ]
     },
     "metadata": {},
     "output_type": "display_data"
    }
   ],
   "source": [
    "sns.scatterplot(data=pdf, x=\"pl\", y=\"pw\", hue=\"variety\");"
   ]
  },
  {
   "cell_type": "code",
   "execution_count": 11,
   "metadata": {},
   "outputs": [],
   "source": [
    "from pyspark.sql.functions import when\n",
    "df1 = df1.withColumn(\"prediction\", when(df1.pl < 2 ,'Setosa').otherwise('Unknown'))"
   ]
  },
  {
   "cell_type": "code",
   "execution_count": 12,
   "metadata": {},
   "outputs": [
    {
     "data": {
      "text/plain": [
       "50"
      ]
     },
     "execution_count": 12,
     "metadata": {},
     "output_type": "execute_result"
    }
   ],
   "source": [
    "df1.where(df1['prediction'] == df1['variety']).count()"
   ]
  },
  {
   "cell_type": "code",
   "execution_count": 13,
   "metadata": {},
   "outputs": [
    {
     "data": {
      "text/plain": [
       "0"
      ]
     },
     "execution_count": 13,
     "metadata": {},
     "output_type": "execute_result"
    }
   ],
   "source": [
    "df1.where(df1['variety'] != df1['variety']).count()"
   ]
  },
  {
   "cell_type": "code",
   "execution_count": null,
   "metadata": {},
   "outputs": [],
   "source": [
    "sc.stop()"
   ]
  }
 ],
 "metadata": {
  "colab": {
   "name": "Загрузка PySpark.ipynb",
   "provenance": []
  },
  "kernelspec": {
   "display_name": "Python 3 (ipykernel)",
   "language": "python",
   "name": "python3"
  },
  "language_info": {
   "codemirror_mode": {
    "name": "ipython",
    "version": 3
   },
   "file_extension": ".py",
   "mimetype": "text/x-python",
   "name": "python",
   "nbconvert_exporter": "python",
   "pygments_lexer": "ipython3",
   "version": "3.8.10"
  }
 },
 "nbformat": 4,
 "nbformat_minor": 1
}
