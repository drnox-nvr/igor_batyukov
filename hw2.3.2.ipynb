{
 "cells": [
  {
   "cell_type": "code",
   "execution_count": 1,
   "id": "f0d7437f",
   "metadata": {},
   "outputs": [],
   "source": [
    "import pandas as pd\n",
    "import numpy as np\n",
    "import scipy.stats as st"
   ]
  },
  {
   "cell_type": "code",
   "execution_count": 2,
   "id": "dc4e9ab1",
   "metadata": {},
   "outputs": [
    {
     "data": {
      "text/html": [
       "<div>\n",
       "<style scoped>\n",
       "    .dataframe tbody tr th:only-of-type {\n",
       "        vertical-align: middle;\n",
       "    }\n",
       "\n",
       "    .dataframe tbody tr th {\n",
       "        vertical-align: top;\n",
       "    }\n",
       "\n",
       "    .dataframe thead th {\n",
       "        text-align: right;\n",
       "    }\n",
       "</style>\n",
       "<table border=\"1\" class=\"dataframe\">\n",
       "  <thead>\n",
       "    <tr style=\"text-align: right;\">\n",
       "      <th></th>\n",
       "      <th>ad_id</th>\n",
       "      <th>action</th>\n",
       "    </tr>\n",
       "  </thead>\n",
       "  <tbody>\n",
       "    <tr>\n",
       "      <th>0</th>\n",
       "      <td>B</td>\n",
       "      <td>1</td>\n",
       "    </tr>\n",
       "    <tr>\n",
       "      <th>1</th>\n",
       "      <td>B</td>\n",
       "      <td>1</td>\n",
       "    </tr>\n",
       "    <tr>\n",
       "      <th>2</th>\n",
       "      <td>A</td>\n",
       "      <td>0</td>\n",
       "    </tr>\n",
       "    <tr>\n",
       "      <th>3</th>\n",
       "      <td>B</td>\n",
       "      <td>0</td>\n",
       "    </tr>\n",
       "    <tr>\n",
       "      <th>4</th>\n",
       "      <td>A</td>\n",
       "      <td>1</td>\n",
       "    </tr>\n",
       "    <tr>\n",
       "      <th>...</th>\n",
       "      <td>...</td>\n",
       "      <td>...</td>\n",
       "    </tr>\n",
       "    <tr>\n",
       "      <th>1995</th>\n",
       "      <td>A</td>\n",
       "      <td>0</td>\n",
       "    </tr>\n",
       "    <tr>\n",
       "      <th>1996</th>\n",
       "      <td>A</td>\n",
       "      <td>0</td>\n",
       "    </tr>\n",
       "    <tr>\n",
       "      <th>1997</th>\n",
       "      <td>A</td>\n",
       "      <td>0</td>\n",
       "    </tr>\n",
       "    <tr>\n",
       "      <th>1998</th>\n",
       "      <td>A</td>\n",
       "      <td>1</td>\n",
       "    </tr>\n",
       "    <tr>\n",
       "      <th>1999</th>\n",
       "      <td>A</td>\n",
       "      <td>0</td>\n",
       "    </tr>\n",
       "  </tbody>\n",
       "</table>\n",
       "<p>2000 rows × 2 columns</p>\n",
       "</div>"
      ],
      "text/plain": [
       "     ad_id  action\n",
       "0        B       1\n",
       "1        B       1\n",
       "2        A       0\n",
       "3        B       0\n",
       "4        A       1\n",
       "...    ...     ...\n",
       "1995     A       0\n",
       "1996     A       0\n",
       "1997     A       0\n",
       "1998     A       1\n",
       "1999     A       0\n",
       "\n",
       "[2000 rows x 2 columns]"
      ]
     },
     "execution_count": 2,
     "metadata": {},
     "output_type": "execute_result"
    }
   ],
   "source": [
    "#читаем дата сет в датафрейм\n",
    "df = pd.read_csv('./ad.csv')\n",
    "df"
   ]
  },
  {
   "cell_type": "code",
   "execution_count": 3,
   "id": "a6f2a54a",
   "metadata": {},
   "outputs": [
    {
     "data": {
      "text/plain": [
       "B    1000\n",
       "A    1000\n",
       "Name: ad_id, dtype: int64"
      ]
     },
     "execution_count": 3,
     "metadata": {},
     "output_type": "execute_result"
    }
   ],
   "source": [
    "#посчитаем размер выборок для каждого объявления в тесте\n",
    "df.ad_id.value_counts()"
   ]
  },
  {
   "cell_type": "code",
   "execution_count": 4,
   "id": "6c626a66",
   "metadata": {},
   "outputs": [],
   "source": [
    "#разобьем датафрем на группы по объявлениям\n",
    "df_a = df[df.ad_id=='A']\n",
    "df_b = df[df.ad_id=='B']"
   ]
  },
  {
   "cell_type": "code",
   "execution_count": 5,
   "id": "e5e44c16",
   "metadata": {},
   "outputs": [
    {
     "data": {
      "text/plain": [
       "ad_id     304\n",
       "action    304\n",
       "dtype: int64"
      ]
     },
     "execution_count": 5,
     "metadata": {},
     "output_type": "execute_result"
    }
   ],
   "source": [
    "#посмотрим сколько раз сработало и то и другое объявление\n",
    "df_a[df_a.action==1].count()"
   ]
  },
  {
   "cell_type": "code",
   "execution_count": 6,
   "id": "19315ef8",
   "metadata": {},
   "outputs": [
    {
     "data": {
      "text/plain": [
       "ad_id     372\n",
       "action    372\n",
       "dtype: int64"
      ]
     },
     "execution_count": 6,
     "metadata": {},
     "output_type": "execute_result"
    }
   ],
   "source": [
    "df_b[df_b.action==1].count()"
   ]
  },
  {
   "cell_type": "code",
   "execution_count": 7,
   "id": "c968f702",
   "metadata": {},
   "outputs": [
    {
     "data": {
      "text/plain": [
       "(0.304, 0.2117957957957958, 0.4602127723084137)"
      ]
     },
     "execution_count": 7,
     "metadata": {},
     "output_type": "execute_result"
    }
   ],
   "source": [
    "#посчитаем средние/пропорцию, дисперсию и ст отклонение для выборок, разбитых на группы\n",
    "mean_a, var_a, std_a = df_a.action.mean(), df_a.action.var(), df_a.action.std()\n",
    "mean_a, var_a, std_a"
   ]
  },
  {
   "cell_type": "code",
   "execution_count": 8,
   "id": "944bcfb3",
   "metadata": {},
   "outputs": [
    {
     "data": {
      "text/plain": [
       "(0.372, 0.23384984984984983, 0.48358024137659905)"
      ]
     },
     "execution_count": 8,
     "metadata": {},
     "output_type": "execute_result"
    }
   ],
   "source": [
    "mean_b, var_b, std_b = df_b.action.mean(), df_b.action.var(), df_b.action.std()\n",
    "mean_b, var_b, std_b"
   ]
  },
  {
   "cell_type": "code",
   "execution_count": 9,
   "id": "2dc9b772",
   "metadata": {},
   "outputs": [
    {
     "data": {
      "text/plain": [
       "Ttest_indResult(statistic=-3.2211732138019786, pvalue=0.0012971905467125246)"
      ]
     },
     "execution_count": 9,
     "metadata": {},
     "output_type": "execute_result"
    }
   ],
   "source": [
    "#Сформулируем нулевую гипотезу о том, что различий между объявлениями нет и работают они одинаково. \n",
    "#alpa примем равным 0.05\n",
    "#получив значение p_value намного меньше, чем alpha, понимаем, что различие есть и отклоняем нулевую гипотезу\n",
    "st.ttest_ind(df_a.action, df_b.action)"
   ]
  },
  {
   "cell_type": "code",
   "execution_count": 10,
   "id": "9cb469d6",
   "metadata": {},
   "outputs": [
    {
     "data": {
      "text/plain": [
       "Ttest_indResult(statistic=3.2211732138019786, pvalue=0.0006485952733562623)"
      ]
     },
     "execution_count": 10,
     "metadata": {},
     "output_type": "execute_result"
    }
   ],
   "source": [
    "#Сформулируем новую нулевую гипотезу о том, что среднее количество успехов объявления B больше чем объявления A\n",
    "#alpa примем равным 0.05\n",
    "#получив значение p_value намного меньше, чем alpha - отклоняем нулевую гипотезу\n",
    "st.ttest_ind(df_b.action, df_a.action, alternative='greater')"
   ]
  },
  {
   "cell_type": "code",
   "execution_count": null,
   "id": "29d9c4db",
   "metadata": {},
   "outputs": [],
   "source": [
    "#таким образом - либо в нашем случае объявление А лучше, чем объявление Б, при условии, что action=1 означает успех\n",
    "#либо у нас недостаточно данных, чтобы принять нулевую гипотезу"
   ]
  }
 ],
 "metadata": {
  "kernelspec": {
   "display_name": "Python 3 (ipykernel)",
   "language": "python",
   "name": "python3"
  },
  "language_info": {
   "codemirror_mode": {
    "name": "ipython",
    "version": 3
   },
   "file_extension": ".py",
   "mimetype": "text/x-python",
   "name": "python",
   "nbconvert_exporter": "python",
   "pygments_lexer": "ipython3",
   "version": "3.8.10"
  }
 },
 "nbformat": 4,
 "nbformat_minor": 5
}
