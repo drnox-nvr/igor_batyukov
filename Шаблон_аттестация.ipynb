{
 "cells": [
  {
   "cell_type": "markdown",
   "metadata": {
    "id": "mXOkIsa2OJWh"
   },
   "source": [
    "# Предсказание временных рядов"
   ]
  },
  {
   "cell_type": "markdown",
   "metadata": {
    "id": "MgrE9-XvOooe"
   },
   "source": [
    "Данный шаблон решения аттестационной задачи предназначен для того, чтобы создать уже готовую структуру, на которую можно нанизывать решение задачи.\n",
    "\n",
    "Этот шаблон универсален: идейно последовательность решения любой исследовательской задачи будет включать точно такие же шаги. Поэтому в будущем можно ориентироваться на этот шаблон.\n",
    "\n",
    "При работе очень важно соблюдать некоторые правила оформления работы:    \n",
    "- Работа пишется в третьем лице, логика построения работы должна примерно соответствовать повествовательной. Представьте, что Вы пишете работу в роли любознательного исследователя, который каждую важную мысль или наблюдение фиксирует у себя в тетради; такой подход позволит сделать чтение исследования приятнее и проще. А это важно - ведь вы пишете и оформляете тетрадь не для собственной гордости, а для того, чтобы эту информацию кто-то мог интерпритировать и использовать.\n",
    "- Блоки должны всегда быть проверены на последовательность выполнения. Мы уже говорили об особенности Jupyter Notebook и Colab запускать блоки в любом порядке. Когда вы будете возвращаться к своей тетради, важно, чтобы вы могли а) запустить тетрадь и б) увидеть результат. Поэтому После окончания выполнения работы обязательно нужно \"прогнать\" тетрадь ещё раз - так мы убедимся, что другой человек или мы (в будущем) сможем воспроизвести исследование.\n",
    "- В конце каждого большого блока/главы (к примеру, EDA) мы должны указывать выводы по проведенной работе. К примеру, логичный вывод \"Введения\" - фиксация того, что мы сформулировали задачи и цели. Звучит излишне, но в других блоках вывод будет гораздо важнее - если нам нужно будет вспомнить быстро результат работы, мы можем обратиться к выводам по каждой главе и понять, что было сделано и каковы результаты проделанной работы.\n",
    "\n",
    "При сдаче работы нужно удалить этот блок 😸."
   ]
  },
  {
   "cell_type": "markdown",
   "metadata": {
    "id": "1zQr-DRYOJUN"
   },
   "source": [
    "## Введение. Постановка целей и задач."
   ]
  },
  {
   "cell_type": "markdown",
   "metadata": {
    "id": "yV73bSO2OJR7"
   },
   "source": [
    "В блоке введение нам необходимо четко обозначить, **почему эта задача появилась, зачем её важно решить**. \n",
    "\n",
    "После того, как мы четко указали на проблему, мы можем сформулировать **цели** исследования и **задачи** исследования. Необходимо всегда помнить, что решение задач ведет к достижению целей, то есть они напрямую взаимосвязаны."
   ]
  },
  {
   "cell_type": "markdown",
   "metadata": {
    "id": "fsEnvXWXUe2z"
   },
   "source": [
    "### Импорт Датафрейма, библиотек, написание функций."
   ]
  },
  {
   "cell_type": "markdown",
   "metadata": {
    "id": "otOFZm6dUexQ"
   },
   "source": [
    "В этом блоке мы импортируем все, что нам нужно для работы: библиотеки, отдельные функции, сам датасет."
   ]
  },
  {
   "cell_type": "code",
   "execution_count": 141,
   "metadata": {
    "id": "Y9HhQemGU6vC"
   },
   "outputs": [],
   "source": [
    "import statsmodels.api as sm\n",
    "import pandas as pd\n",
    "import numpy as np"
   ]
  },
  {
   "cell_type": "code",
   "execution_count": 142,
   "metadata": {
    "id": "Sx_GJx5XU8Zi"
   },
   "outputs": [],
   "source": [
    "data = sm.datasets.elnino.load_pandas()"
   ]
  },
  {
   "cell_type": "code",
   "execution_count": 143,
   "metadata": {
    "id": "Iqtl_rYgVCrb"
   },
   "outputs": [
    {
     "data": {
      "text/html": [
       "<div>\n",
       "<style scoped>\n",
       "    .dataframe tbody tr th:only-of-type {\n",
       "        vertical-align: middle;\n",
       "    }\n",
       "\n",
       "    .dataframe tbody tr th {\n",
       "        vertical-align: top;\n",
       "    }\n",
       "\n",
       "    .dataframe thead th {\n",
       "        text-align: right;\n",
       "    }\n",
       "</style>\n",
       "<table border=\"1\" class=\"dataframe\">\n",
       "  <thead>\n",
       "    <tr style=\"text-align: right;\">\n",
       "      <th></th>\n",
       "      <th>YEAR</th>\n",
       "      <th>JAN</th>\n",
       "      <th>FEB</th>\n",
       "      <th>MAR</th>\n",
       "      <th>APR</th>\n",
       "      <th>MAY</th>\n",
       "      <th>JUN</th>\n",
       "      <th>JUL</th>\n",
       "      <th>AUG</th>\n",
       "      <th>SEP</th>\n",
       "      <th>OCT</th>\n",
       "      <th>NOV</th>\n",
       "      <th>DEC</th>\n",
       "    </tr>\n",
       "  </thead>\n",
       "  <tbody>\n",
       "    <tr>\n",
       "      <th>0</th>\n",
       "      <td>1950.0</td>\n",
       "      <td>23.11</td>\n",
       "      <td>24.20</td>\n",
       "      <td>25.37</td>\n",
       "      <td>23.86</td>\n",
       "      <td>23.03</td>\n",
       "      <td>21.57</td>\n",
       "      <td>20.63</td>\n",
       "      <td>20.15</td>\n",
       "      <td>19.67</td>\n",
       "      <td>20.03</td>\n",
       "      <td>20.02</td>\n",
       "      <td>21.80</td>\n",
       "    </tr>\n",
       "    <tr>\n",
       "      <th>1</th>\n",
       "      <td>1951.0</td>\n",
       "      <td>24.19</td>\n",
       "      <td>25.28</td>\n",
       "      <td>25.60</td>\n",
       "      <td>25.37</td>\n",
       "      <td>24.79</td>\n",
       "      <td>24.69</td>\n",
       "      <td>23.86</td>\n",
       "      <td>22.32</td>\n",
       "      <td>21.44</td>\n",
       "      <td>21.77</td>\n",
       "      <td>22.33</td>\n",
       "      <td>22.89</td>\n",
       "    </tr>\n",
       "    <tr>\n",
       "      <th>2</th>\n",
       "      <td>1952.0</td>\n",
       "      <td>24.52</td>\n",
       "      <td>26.21</td>\n",
       "      <td>26.37</td>\n",
       "      <td>24.73</td>\n",
       "      <td>23.71</td>\n",
       "      <td>22.34</td>\n",
       "      <td>20.89</td>\n",
       "      <td>20.02</td>\n",
       "      <td>19.63</td>\n",
       "      <td>20.40</td>\n",
       "      <td>20.77</td>\n",
       "      <td>22.39</td>\n",
       "    </tr>\n",
       "    <tr>\n",
       "      <th>3</th>\n",
       "      <td>1953.0</td>\n",
       "      <td>24.15</td>\n",
       "      <td>26.34</td>\n",
       "      <td>27.36</td>\n",
       "      <td>27.03</td>\n",
       "      <td>25.47</td>\n",
       "      <td>23.49</td>\n",
       "      <td>22.20</td>\n",
       "      <td>21.45</td>\n",
       "      <td>21.25</td>\n",
       "      <td>20.95</td>\n",
       "      <td>21.60</td>\n",
       "      <td>22.44</td>\n",
       "    </tr>\n",
       "    <tr>\n",
       "      <th>4</th>\n",
       "      <td>1954.0</td>\n",
       "      <td>23.02</td>\n",
       "      <td>25.00</td>\n",
       "      <td>25.33</td>\n",
       "      <td>22.97</td>\n",
       "      <td>21.73</td>\n",
       "      <td>20.77</td>\n",
       "      <td>19.52</td>\n",
       "      <td>19.33</td>\n",
       "      <td>18.95</td>\n",
       "      <td>19.11</td>\n",
       "      <td>20.27</td>\n",
       "      <td>21.30</td>\n",
       "    </tr>\n",
       "    <tr>\n",
       "      <th>...</th>\n",
       "      <td>...</td>\n",
       "      <td>...</td>\n",
       "      <td>...</td>\n",
       "      <td>...</td>\n",
       "      <td>...</td>\n",
       "      <td>...</td>\n",
       "      <td>...</td>\n",
       "      <td>...</td>\n",
       "      <td>...</td>\n",
       "      <td>...</td>\n",
       "      <td>...</td>\n",
       "      <td>...</td>\n",
       "      <td>...</td>\n",
       "    </tr>\n",
       "    <tr>\n",
       "      <th>56</th>\n",
       "      <td>2006.0</td>\n",
       "      <td>24.76</td>\n",
       "      <td>26.52</td>\n",
       "      <td>26.22</td>\n",
       "      <td>24.29</td>\n",
       "      <td>23.84</td>\n",
       "      <td>22.82</td>\n",
       "      <td>22.20</td>\n",
       "      <td>21.89</td>\n",
       "      <td>21.93</td>\n",
       "      <td>22.46</td>\n",
       "      <td>22.61</td>\n",
       "      <td>24.15</td>\n",
       "    </tr>\n",
       "    <tr>\n",
       "      <th>57</th>\n",
       "      <td>2007.0</td>\n",
       "      <td>25.82</td>\n",
       "      <td>26.81</td>\n",
       "      <td>26.41</td>\n",
       "      <td>24.96</td>\n",
       "      <td>23.05</td>\n",
       "      <td>21.61</td>\n",
       "      <td>21.05</td>\n",
       "      <td>19.95</td>\n",
       "      <td>19.85</td>\n",
       "      <td>19.31</td>\n",
       "      <td>19.82</td>\n",
       "      <td>21.15</td>\n",
       "    </tr>\n",
       "    <tr>\n",
       "      <th>58</th>\n",
       "      <td>2008.0</td>\n",
       "      <td>24.24</td>\n",
       "      <td>26.39</td>\n",
       "      <td>26.91</td>\n",
       "      <td>25.68</td>\n",
       "      <td>24.43</td>\n",
       "      <td>23.19</td>\n",
       "      <td>23.02</td>\n",
       "      <td>22.14</td>\n",
       "      <td>21.60</td>\n",
       "      <td>21.39</td>\n",
       "      <td>21.54</td>\n",
       "      <td>22.73</td>\n",
       "    </tr>\n",
       "    <tr>\n",
       "      <th>59</th>\n",
       "      <td>2009.0</td>\n",
       "      <td>24.39</td>\n",
       "      <td>25.53</td>\n",
       "      <td>25.48</td>\n",
       "      <td>25.84</td>\n",
       "      <td>24.95</td>\n",
       "      <td>24.09</td>\n",
       "      <td>23.09</td>\n",
       "      <td>22.03</td>\n",
       "      <td>21.48</td>\n",
       "      <td>21.64</td>\n",
       "      <td>21.99</td>\n",
       "      <td>23.21</td>\n",
       "    </tr>\n",
       "    <tr>\n",
       "      <th>60</th>\n",
       "      <td>2010.0</td>\n",
       "      <td>24.70</td>\n",
       "      <td>26.16</td>\n",
       "      <td>26.54</td>\n",
       "      <td>26.04</td>\n",
       "      <td>24.75</td>\n",
       "      <td>23.26</td>\n",
       "      <td>21.11</td>\n",
       "      <td>19.49</td>\n",
       "      <td>19.28</td>\n",
       "      <td>19.73</td>\n",
       "      <td>20.44</td>\n",
       "      <td>22.07</td>\n",
       "    </tr>\n",
       "  </tbody>\n",
       "</table>\n",
       "<p>61 rows × 13 columns</p>\n",
       "</div>"
      ],
      "text/plain": [
       "      YEAR    JAN    FEB    MAR    APR    MAY    JUN    JUL    AUG    SEP  \\\n",
       "0   1950.0  23.11  24.20  25.37  23.86  23.03  21.57  20.63  20.15  19.67   \n",
       "1   1951.0  24.19  25.28  25.60  25.37  24.79  24.69  23.86  22.32  21.44   \n",
       "2   1952.0  24.52  26.21  26.37  24.73  23.71  22.34  20.89  20.02  19.63   \n",
       "3   1953.0  24.15  26.34  27.36  27.03  25.47  23.49  22.20  21.45  21.25   \n",
       "4   1954.0  23.02  25.00  25.33  22.97  21.73  20.77  19.52  19.33  18.95   \n",
       "..     ...    ...    ...    ...    ...    ...    ...    ...    ...    ...   \n",
       "56  2006.0  24.76  26.52  26.22  24.29  23.84  22.82  22.20  21.89  21.93   \n",
       "57  2007.0  25.82  26.81  26.41  24.96  23.05  21.61  21.05  19.95  19.85   \n",
       "58  2008.0  24.24  26.39  26.91  25.68  24.43  23.19  23.02  22.14  21.60   \n",
       "59  2009.0  24.39  25.53  25.48  25.84  24.95  24.09  23.09  22.03  21.48   \n",
       "60  2010.0  24.70  26.16  26.54  26.04  24.75  23.26  21.11  19.49  19.28   \n",
       "\n",
       "      OCT    NOV    DEC  \n",
       "0   20.03  20.02  21.80  \n",
       "1   21.77  22.33  22.89  \n",
       "2   20.40  20.77  22.39  \n",
       "3   20.95  21.60  22.44  \n",
       "4   19.11  20.27  21.30  \n",
       "..    ...    ...    ...  \n",
       "56  22.46  22.61  24.15  \n",
       "57  19.31  19.82  21.15  \n",
       "58  21.39  21.54  22.73  \n",
       "59  21.64  21.99  23.21  \n",
       "60  19.73  20.44  22.07  \n",
       "\n",
       "[61 rows x 13 columns]"
      ]
     },
     "execution_count": 143,
     "metadata": {},
     "output_type": "execute_result"
    }
   ],
   "source": [
    "df = data.data\n",
    "df"
   ]
  },
  {
   "cell_type": "markdown",
   "metadata": {
    "id": "plIXeY2aUeuv"
   },
   "source": [
    "### Знакомство с данными."
   ]
  },
  {
   "cell_type": "code",
   "execution_count": 144,
   "metadata": {},
   "outputs": [
    {
     "data": {
      "text/plain": [
       "pandas.core.indexes.base.Index"
      ]
     },
     "execution_count": 144,
     "metadata": {},
     "output_type": "execute_result"
    }
   ],
   "source": [
    "df1 = df.set_index('YEAR')\n",
    "type(df1.columns)"
   ]
  },
  {
   "cell_type": "code",
   "execution_count": 145,
   "metadata": {},
   "outputs": [
    {
     "data": {
      "text/plain": [
       "12"
      ]
     },
     "execution_count": 145,
     "metadata": {},
     "output_type": "execute_result"
    }
   ],
   "source": [
    "len(df1.columns)"
   ]
  },
  {
   "cell_type": "code",
   "execution_count": 147,
   "metadata": {},
   "outputs": [
    {
     "data": {
      "text/plain": [
       "<AxesSubplot:>"
      ]
     },
     "execution_count": 147,
     "metadata": {},
     "output_type": "execute_result"
    },
    {
     "data": {
      "image/png": "[encoded data removed]",
      "text/plain": [
       "<Figure size 432x288 with 1 Axes>"
      ]
     },
     "metadata": {
      "needs_background": "light"
     },
     "output_type": "display_data"
    }
   ],
   "source": [
    "l = []\n",
    "for year in df['YEAR']:\n",
    "    for month in df1.columns:\n",
    "        l.append(f'{month}-{int(year)}')\n",
    "        \n",
    "df3 = pd.DataFrame(l, columns=['date'])\n",
    "df3.set_index('date')\n",
    "list = [df1.JAN, df1.FEB, df1.MAR, df1.APR, df1.MAY, df1.JUN, df1.JUL, df1.AUG, df1.SEP, df1.OCT, df1.NOV, df1.DEC]\n",
    "df3['temps'] = pd.concat(list, ignore_index=True)\n",
    "df3.plot()"
   ]
  },
  {
   "cell_type": "markdown",
   "metadata": {
    "id": "2CFkHRlGUerR"
   },
   "source": [
    "Этот блок посвящен первоначальному знакомству с данными\n",
    "\n",
    "Наша задача - посмотреть на данные методами .info(), а также изучить их визуально.\n",
    "\n",
    "Будет удобно рассматривать определенный блок - одну страну, один месяц одной страны.\n",
    "\n",
    "Здесь же надо определиться с описанием данных - лучше всего для себя пояснить, с чем мы имеем дело. В данном случае столбцов слишком много, поэтому необходимо описать только самое важное - максимум 7-8 столбцов."
   ]
  },
  {
   "cell_type": "markdown",
   "metadata": {
    "id": "-8L1ZhXlsc4E"
   },
   "source": [
    "Как только у нас есть информация, что данные получены без ошибок, а также есть самое общее представление о содержимом, мы можем перейти к следующему пункту.."
   ]
  },
  {
   "cell_type": "markdown",
   "metadata": {
    "id": "Efv0vhWsUepF"
   },
   "source": [
    "## Предобработка данных"
   ]
  },
  {
   "cell_type": "markdown",
   "metadata": {
    "id": "pO4OjmPkuZbv"
   },
   "source": [
    "### Фильтрация данных"
   ]
  },
  {
   "cell_type": "markdown",
   "metadata": {
    "id": "9YBLWrQxuZZ3"
   },
   "source": [
    "Обычно фильтрацию данных делают позже - когда нужно непосредственно работать с данными. В нашем случае это неудобно: у нас условие, по которому мы выбираем какой-либо параметр \n",
    "\n",
    "С другой стороны, столбцов в задании может быть многовато. Поэтому на этом этапе нам нужно избавиться от всех ненужных столбцов. Чтобы понять, какие столбцы нужны - лучше всего вспомнить суть задачи. \n",
    "\n",
    "\n",
    "По итогу у нас должен остаться небольшой **датасет**."
   ]
  },
  {
   "cell_type": "markdown",
   "metadata": {
    "id": "clnxdMqFs7Lw"
   },
   "source": [
    "### Обработка пропусков"
   ]
  },
  {
   "cell_type": "markdown",
   "metadata": {
    "id": "QrdFwQnLtc4K"
   },
   "source": [
    "В этом блоке мы должны понять - почему у нас есть пропуски. Главный вопрос - какова их природа? \n",
    "\n",
    "После того, как мы это поймем, мы можем принять решение относительно заполнения пропусков."
   ]
  },
  {
   "cell_type": "markdown",
   "metadata": {
    "id": "aXz-BRtmtc2E"
   },
   "source": [
    "Главный момент: **в рамках этого задания мы не удаляем ничего, связанного с пропусками!**\n",
    "\n",
    "Главная причина - характер работы с данными: мы работаем в этой задаче с временным промежутком, и нам важно, чтобы не было отсутствующих дат. К примеру, ситуация, когда у нас есть пропуск продолжительностью от 1 до 3 дней в середине временного промежутка, попросту неприемлима."
   ]
  },
  {
   "cell_type": "markdown",
   "metadata": {
    "id": "PsewIQW_uRTq"
   },
   "source": [
    "После обработки пропусков нам обязательно нужно проверить - всё ли в порядке. Выведите данные и проверьте заполненность. Зафиксируйте то, что пропусков больше нет."
   ]
  },
  {
   "cell_type": "markdown",
   "metadata": {
    "id": "q8gTgMtTVpYE"
   },
   "source": [
    "### Вывод по этапу.\n"
   ]
  },
  {
   "cell_type": "markdown",
   "metadata": {
    "id": "dxNx7ZCA1FrO"
   },
   "source": []
  },
  {
   "cell_type": "markdown",
   "metadata": {
    "id": "ychutOlHtcz_"
   },
   "source": [
    "## EDA или разведочный анализ данных."
   ]
  },
  {
   "cell_type": "markdown",
   "metadata": {
    "id": "u_-__QdXtcxv"
   },
   "source": [
    "В данном блоке наша задача - познакомиться \"поближе\" с данными, которыми мы располагаем.\n",
    "\n",
    "Что лучше всего сделать:    \n",
    "- Сделать столбец с датами индексом;\n",
    "- Вывести статистику по нужным столбцам;\n",
    "- Построить графическое отображение столбцов;\n",
    "- Попробовать определить - есть ли столбцы, которые мы можем отфильтровать (к примеру, самые ранние записи, где информации могло не быть и где были NaN). **- такого может и не быть**\n",
    "\n",
    "\n",
    "Проделав действия выше, мы выполним минимум, необходимый для дальнейшей работы. \n",
    "\n",
    "Помимо этой информации, здесь же нужно всесторонне познакомиться с рассматриваемыми данными в контексте процесса/явления.\n",
    "\n",
    "Хорошо здесь описать всё, что влияет на метрику, и что может нам помочь определить следующее: можем ли мы достоверно предсказать рост или падение метрики на основании одной переменной? Или здесь нужны методы посложнее, с большим числом входных данных и зависимостей?\n",
    "\n",
    "Отвечайте на вопросы честно! "
   ]
  },
  {
   "cell_type": "markdown",
   "metadata": {
    "id": "KM8Op5eGtcvq"
   },
   "source": [
    "Как только мы поняли, что описанной информации достаточно - можно перейти к следующему пункту."
   ]
  },
  {
   "cell_type": "markdown",
   "metadata": {
    "id": "v5F1qQuCtctd"
   },
   "source": [
    "## Построение моделей, анализ результатов."
   ]
  },
  {
   "cell_type": "markdown",
   "metadata": {
    "id": "I3XRqO2002t7"
   },
   "source": [
    "Данный блок содержит в себе решение поставленной задачи.\n",
    "\n",
    "В прошлых блоках мы убедились в целостности данных, их логичности, а также в том, что мы понимаем, с чем мы имеем дело. \n",
    "\n",
    "На этом этапе у нас должен быть объект типа DataFrame или Series, где индекс - даты, а в значениях находится нужная информация. То есть временной ряд."
   ]
  },
  {
   "cell_type": "markdown",
   "metadata": {
    "id": "6LaMz5Kz17gQ"
   },
   "source": [
    "В данном блоке у нас должно быть от трёх до четырех подглав:    \n",
    "- Разделение датасета на тренировочную и тестовую (валидационную) выборки, проверка на статичность, построение графиков автокорреляции и частичной автокорреляции, разбивка на сезонность и тренд.\n",
    "- Применение 1 способа прогнозирования;\n",
    "- Применение 2 способа прогнозирования;\n",
    "- (Применение 3 способа прогнозирования); **По желанию**\n",
    "\n",
    "Первый пункт - разделение датасета - универсален, данные из него не нужно обновлять или заного рассчитывать.\n",
    "\n",
    "Остальные три пункта содержат примерно одинаковый алгоритм действий:    \n",
    "1. Описываем вкратце модель.\n",
    "2. Создаем модель.\n",
    "3. Обучаем модель.\n",
    "4. Создаем прогноз.\n",
    "5. Сравниваем прогноз и предсказание. \n",
    "6. Рассчитываем качество полученной модели и прогноза.\n",
    "7. Делаем выводы по прогнозу.\n",
    "\n",
    "\n",
    "Какие модели у нас есть:\n",
    "- В рамках курса мы рассмотрели модель ARIMA, её улучшенную версию SARIMA. Обязательно попробуйте использовать эту модель;\n",
    "- Модель экспаненционного сглаживающего среднего;\n",
    "- Модель Хольта-Винтерса.\n",
    "\n",
    "Последние 2 модели мы не изучали, поэтому можно попробовать использовать составные от модели ARIMA, которые мы рассматривали в лекции - AR, MA.\n",
    "\n",
    "После получения прогноза отобразите графики **прогноз vs факт**, чтобы визуально можно было посмотреть на то, как точно построен прогноз. \n",
    "\n",
    "Как понять, подходит ли модель. Попробуйте использовать следующие методы рассчета ошибки:\n",
    "- MAPE или средняя абсолютная ошибка в процентах.\n",
    "- RMSE - квадратный корень из среднеквадратичной ошибки.\n",
    "- MSE - среднеквадратичный корень (связан  с RMSE).\n",
    "\n",
    "В конце - сравните полученные метрики с ошибками и выберите ту модель, которая точнее всего создает прогноз.\n",
    "\n",
    "Ещё один важный момент - горизонт прогнозирования и сравнение прогноза с данными. Горизонт планирования нужно сделать небольшим - примерно 10-15 наблюдений (то есть 10-15 дней). И в ошибку нужно сравнивать с таким же числом наблюдений за тот же период по реальным данным!\n",
    "\n",
    "Также отмечу, что прогноз, скорее всего, будет не самым точным, а возможно, он совсем покажет что-то непонятное."
   ]
  },
  {
   "cell_type": "markdown",
   "metadata": {
    "id": "gX7Ue2304viI"
   },
   "source": [
    "## Выводы"
   ]
  },
  {
   "cell_type": "markdown",
   "metadata": {
    "id": "wmuZ3A2_4vgF"
   },
   "source": [
    "В данном блоке опишите общие выводы по работе: что было сделано, что было получено. Помните, отрицательный результат - тоже результат. Поэтому указывайте информацию честно и беспристратно. "
   ]
  }
 ],
 "metadata": {
  "colab": {
   "collapsed_sections": [],
   "name": "Шаблон_аттестация.ipynb",
   "provenance": []
  },
  "kernelspec": {
   "display_name": "Python 3 (ipykernel)",
   "language": "python",
   "name": "python3"
  },
  "language_info": {
   "codemirror_mode": {
    "name": "ipython",
    "version": 3
   },
   "file_extension": ".py",
   "mimetype": "text/x-python",
   "name": "python",
   "nbconvert_exporter": "python",
   "pygments_lexer": "ipython3",
   "version": "3.9.10"
  }
 },
 "nbformat": 4,
 "nbformat_minor": 1
}
