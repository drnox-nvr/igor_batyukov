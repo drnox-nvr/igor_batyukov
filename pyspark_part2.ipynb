{
 "cells": [
  {
   "cell_type": "markdown",
   "metadata": {
    "id": "IQw4ZlGverW0"
   },
   "source": [
    "Загрузка PySpark"
   ]
  },
  {
   "cell_type": "code",
   "execution_count": 1,
   "metadata": {
    "id": "B0lCwoIEfBhT"
   },
   "outputs": [],
   "source": [
    "import findspark\n",
    "findspark.init()\n",
    "\n",
    "location = findspark.find()\n",
    "\n",
    "import os\n",
    "os.environ[\"JAVA_HOME\"] = \"/usr/lib/jvm/java-8-openjdk-amd64\"\n",
    "os.environ[\"SPARK_HOME\"] = location"
   ]
  },
  {
   "cell_type": "code",
   "execution_count": 3,
   "metadata": {
    "id": "hjNRn0ZgfEKJ"
   },
   "outputs": [],
   "source": [
    "from pyspark.sql import SparkSession\n",
    "\n",
    "\n",
    "spark = SparkSession.builder.getOrCreate()\n",
    "\n",
    "\n",
    "sc = spark.sparkContext"
   ]
  },
  {
   "cell_type": "code",
   "execution_count": 4,
   "metadata": {},
   "outputs": [],
   "source": [
    "import pandas as pd\n",
    "import numpy as np\n",
    "\n",
    "import matplotlib.pyplot as plt\n",
    "%matplotlib inline\n",
    "\n",
    "import warnings\n",
    "warnings.filterwarnings('ignore')"
   ]
  },
  {
   "cell_type": "code",
   "execution_count": 5,
   "metadata": {
    "id": "494uad_NAtla"
   },
   "outputs": [],
   "source": [
    "df=spark.read.csv('./iris.csv', inferSchema=True, header=True)"
   ]
  },
  {
   "cell_type": "code",
   "execution_count": 6,
   "metadata": {},
   "outputs": [
    {
     "name": "stdout",
     "output_type": "stream",
     "text": [
      "+-------+------------------+-------------------+------------------+------------------+---------+\n",
      "|summary|      sepal.length|        sepal.width|      petal.length|       petal.width|  variety|\n",
      "+-------+------------------+-------------------+------------------+------------------+---------+\n",
      "|  count|               150|                150|               150|               150|      150|\n",
      "|   mean| 5.843333333333335|  3.057333333333334|3.7580000000000027| 1.199333333333334|     null|\n",
      "| stddev|0.8280661279778637|0.43586628493669793|1.7652982332594662|0.7622376689603467|     null|\n",
      "|    min|               4.3|                2.0|               1.0|               0.1|   Setosa|\n",
      "|    max|               7.9|                4.4|               6.9|               2.5|Virginica|\n",
      "+-------+------------------+-------------------+------------------+------------------+---------+\n",
      "\n"
     ]
    }
   ],
   "source": [
    "df.describe().show()"
   ]
  },
  {
   "cell_type": "code",
   "execution_count": 7,
   "metadata": {
    "id": "LfCnmjYoB18q"
   },
   "outputs": [],
   "source": [
    "df1 = df.withColumnRenamed('sepal.length','sl') \\\n",
    "        .withColumnRenamed('sepal.width','sw') \\\n",
    "        .withColumnRenamed('petal.length','pl') \\\n",
    "        .withColumnRenamed('petal.width','pw')"
   ]
  },
  {
   "cell_type": "code",
   "execution_count": 8,
   "metadata": {},
   "outputs": [
    {
     "data": {
      "text/plain": [
       "[Row(sl=5.1, sw=3.5, pl=1.4, pw=0.2, variety='Setosa'),\n",
       " Row(sl=4.9, sw=3.0, pl=1.4, pw=0.2, variety='Setosa'),\n",
       " Row(sl=4.7, sw=3.2, pl=1.3, pw=0.2, variety='Setosa'),\n",
       " Row(sl=4.6, sw=3.1, pl=1.5, pw=0.2, variety='Setosa'),\n",
       " Row(sl=5.0, sw=3.6, pl=1.4, pw=0.2, variety='Setosa')]"
      ]
     },
     "execution_count": 8,
     "metadata": {},
     "output_type": "execute_result"
    }
   ],
   "source": [
    "df1.take(5)"
   ]
  },
  {
   "cell_type": "code",
   "execution_count": 23,
   "metadata": {},
   "outputs": [
    {
     "name": "stdout",
     "output_type": "stream",
     "text": [
      "+----------+-------+-------+-------+-------+\n",
      "|   variety|max(sl)|max(sw)|max(pl)|max(pw)|\n",
      "+----------+-------+-------+-------+-------+\n",
      "| Virginica|    7.9|    3.8|    6.9|    2.5|\n",
      "|    Setosa|    5.8|    4.4|    1.9|    0.6|\n",
      "|Versicolor|    7.0|    3.4|    5.1|    1.8|\n",
      "+----------+-------+-------+-------+-------+\n",
      "\n"
     ]
    }
   ],
   "source": [
    "df1.groupBy('variety').max().show()"
   ]
  },
  {
   "cell_type": "code",
   "execution_count": 48,
   "metadata": {},
   "outputs": [],
   "source": [
    "from pyspark.ml import Pipeline\n",
    "from pyspark.ml.linalg import Vectors\n",
    "from pyspark.ml.feature import VectorAssembler, StringIndexer, OneHotEncoder\n",
    "from pyspark.ml.classification import LogisticRegression\n",
    "from pyspark.ml.evaluation import MulticlassClassificationEvaluator"
   ]
  },
  {
   "cell_type": "code",
   "execution_count": 29,
   "metadata": {},
   "outputs": [],
   "source": [
    "pipeline = Pipeline(stages = [\n",
    "                                StringIndexer(inputCol='variety', outputCol='variety_ind'),\n",
    "                                VectorAssembler(inputCols = ['sl', 'sw', 'pl', 'pw'], outputCol='features')\n",
    "                            ])"
   ]
  },
  {
   "cell_type": "code",
   "execution_count": 30,
   "metadata": {},
   "outputs": [],
   "source": [
    "pipeline_trained = pipeline.fit(df1)"
   ]
  },
  {
   "cell_type": "code",
   "execution_count": 31,
   "metadata": {},
   "outputs": [],
   "source": [
    "df_pipe = pipeline_trained.transform(df1)"
   ]
  },
  {
   "cell_type": "code",
   "execution_count": 32,
   "metadata": {},
   "outputs": [],
   "source": [
    "train, test = df_pipe.randomSplit([0.8, 0.2], seed=12345)"
   ]
  },
  {
   "cell_type": "code",
   "execution_count": 33,
   "metadata": {},
   "outputs": [],
   "source": [
    "model = LogisticRegression(featuresCol='features', labelCol='variety_ind')"
   ]
  },
  {
   "cell_type": "code",
   "execution_count": 35,
   "metadata": {},
   "outputs": [],
   "source": [
    "model_fit = model.fit(train)"
   ]
  },
  {
   "cell_type": "code",
   "execution_count": 38,
   "metadata": {},
   "outputs": [],
   "source": [
    "prediction = model_fit.transform(test)"
   ]
  },
  {
   "cell_type": "code",
   "execution_count": 39,
   "metadata": {},
   "outputs": [
    {
     "name": "stdout",
     "output_type": "stream",
     "text": [
      "+---+---+---+---+----------+-----------+-----------------+--------------------+--------------------+----------+\n",
      "| sl| sw| pl| pw|   variety|variety_ind|         features|       rawPrediction|         probability|prediction|\n",
      "+---+---+---+---+----------+-----------+-----------------+--------------------+--------------------+----------+\n",
      "|4.6|3.2|1.4|0.2|    Setosa|        0.0|[4.6,3.2,1.4,0.2]|[77.9244494508551...|[1.0,1.1613253875...|       0.0|\n",
      "|5.0|3.0|1.6|0.2|    Setosa|        0.0|[5.0,3.0,1.6,0.2]|[57.9160733534977...|[1.0,4.1576902534...|       0.0|\n",
      "|5.0|3.2|1.2|0.2|    Setosa|        0.0|[5.0,3.2,1.2,0.2]|[75.3193543970114...|[1.0,2.0755277215...|       0.0|\n",
      "|5.0|3.5|1.3|0.3|    Setosa|        0.0|[5.0,3.5,1.3,0.3]|[86.2425022041546...|[1.0,1.2215769953...|       0.0|\n",
      "|5.1|3.5|1.4|0.3|    Setosa|        0.0|[5.1,3.5,1.4,0.3]|[83.1350309559163...|[1.0,9.4206143888...|       0.0|\n",
      "|5.4|3.4|1.5|0.4|    Setosa|        0.0|[5.4,3.4,1.5,0.4]|[67.9413178196848...|[1.0,1.9889286309...|       0.0|\n",
      "|5.4|3.9|1.3|0.4|    Setosa|        0.0|[5.4,3.9,1.3,0.4]|[98.3498005096563...|[1.0,4.0388286547...|       0.0|\n",
      "|5.7|2.8|4.1|1.3|Versicolor|        1.0|[5.7,2.8,4.1,1.3]|[-45.078723406434...|[1.08636737630501...|       1.0|\n",
      "|6.1|2.9|4.7|1.4|Versicolor|        1.0|[6.1,2.9,4.7,1.4]|[-59.076346666203...|[1.15748661348499...|       1.0|\n",
      "|6.2|2.2|4.5|1.5|Versicolor|        1.0|[6.2,2.2,4.5,1.5]|[-98.977915568428...|[1.07132570078053...|       1.0|\n",
      "|6.2|3.4|5.4|2.3| Virginica|        2.0|[6.2,3.4,5.4,2.3]|[-78.350724605777...|[3.15786647555683...|       2.0|\n",
      "|6.4|3.1|5.5|1.8| Virginica|        2.0|[6.4,3.1,5.5,1.8]|[-80.610739592733...|[2.42077620098529...|       2.0|\n",
      "|6.5|3.0|5.2|2.0| Virginica|        2.0|[6.5,3.0,5.2,2.0]|[-90.034099081951...|[8.63782399305573...|       2.0|\n",
      "|6.5|3.2|5.1|2.0| Virginica|        2.0|[6.5,3.2,5.1,2.0]|[-77.543213007992...|[3.56210874463710...|       2.0|\n",
      "|6.7|2.5|5.8|1.8| Virginica|        2.0|[6.7,2.5,5.8,1.8]|[-122.49341658977...|[6.19669066397597...|       2.0|\n",
      "|6.7|3.0|5.2|2.3| Virginica|        2.0|[6.7,3.0,5.2,2.3]|[-104.13266808622...|[5.08883256875445...|       2.0|\n",
      "|6.7|3.1|4.7|1.5|Versicolor|        1.0|[6.7,3.1,4.7,1.5]|[-60.762481961582...|[5.8200606159619E...|       1.0|\n",
      "|6.7|3.3|5.7|2.5| Virginica|        2.0|[6.7,3.3,5.7,2.5]|[-103.47889906765...|[7.98635881546652...|       2.0|\n",
      "|6.9|3.1|4.9|1.5|Versicolor|        1.0|[6.9,3.1,4.9,1.5]|[-66.977424458058...|[9.77379379558511...|       1.0|\n",
      "|6.9|3.1|5.4|2.1| Virginica|        2.0|[6.9,3.1,5.4,2.1]|[-97.481862382313...|[4.72432157083609...|       2.0|\n",
      "+---+---+---+---+----------+-----------+-----------------+--------------------+--------------------+----------+\n",
      "only showing top 20 rows\n",
      "\n"
     ]
    }
   ],
   "source": [
    "prediction.show()"
   ]
  },
  {
   "cell_type": "code",
   "execution_count": 49,
   "metadata": {},
   "outputs": [],
   "source": [
    "ev = MulticlassClassificationEvaluator(labelCol='variety_ind')"
   ]
  },
  {
   "cell_type": "code",
   "execution_count": 50,
   "metadata": {},
   "outputs": [
    {
     "data": {
      "text/plain": [
       "1.0"
      ]
     },
     "execution_count": 50,
     "metadata": {},
     "output_type": "execute_result"
    }
   ],
   "source": [
    "ev.evaluate(prediction)"
   ]
  },
  {
   "cell_type": "markdown",
   "metadata": {},
   "source": [
    "# Предскажем тип цветка на на случайно полученных данных, используя нашу модель"
   ]
  },
  {
   "cell_type": "code",
   "execution_count": 95,
   "metadata": {},
   "outputs": [],
   "source": [
    "sl = np.random.uniform(3.0, 7.0, 15)"
   ]
  },
  {
   "cell_type": "code",
   "execution_count": 96,
   "metadata": {},
   "outputs": [],
   "source": [
    "sw = np.random.uniform(1.5, 4.6, 15)"
   ]
  },
  {
   "cell_type": "code",
   "execution_count": 97,
   "metadata": {},
   "outputs": [],
   "source": [
    "pl = np.random.uniform(1.0, 7.0, 15)"
   ]
  },
  {
   "cell_type": "code",
   "execution_count": 98,
   "metadata": {},
   "outputs": [],
   "source": [
    "pw = np.random.uniform(0.0, 4.0, 15)"
   ]
  },
  {
   "cell_type": "code",
   "execution_count": 99,
   "metadata": {},
   "outputs": [],
   "source": [
    "pdf_test = pd.DataFrame({\n",
    "    'sl': sl,\n",
    "    'sw': sw,\n",
    "    'pl': pl,\n",
    "    'pw': pw\n",
    "})"
   ]
  },
  {
   "cell_type": "code",
   "execution_count": 100,
   "metadata": {},
   "outputs": [],
   "source": [
    "df_test = spark.createDataFrame(pdf_test)"
   ]
  },
  {
   "cell_type": "code",
   "execution_count": 101,
   "metadata": {},
   "outputs": [
    {
     "name": "stdout",
     "output_type": "stream",
     "text": [
      "+------------------+------------------+------------------+-------------------+\n",
      "|                sl|                sw|                pl|                 pw|\n",
      "+------------------+------------------+------------------+-------------------+\n",
      "| 5.952638554701469| 3.391935077592834|5.6331131307015205| 2.0021376205324546|\n",
      "| 4.273048741132579|1.5819270353644987|  3.50990092277556| 1.3228392767742232|\n",
      "| 4.608715801467209|1.7680092708669597|  4.99404449754477| 0.5462739767305473|\n",
      "| 3.145316237594371|3.7100617228146215| 6.575223388094388|   0.69459697222841|\n",
      "| 4.721985695263712| 3.175898238253458|3.5918556463198716|0.04400457110761957|\n",
      "| 4.085668349202013| 1.532522251817288| 4.668077049254033| 1.9461043549783712|\n",
      "|  3.34467498040212|3.3750956546196873| 6.652471789734088| 3.6988872810234708|\n",
      "| 5.424661035856896| 2.461736662464517| 1.962250604862513| 0.4016035609098907|\n",
      "| 4.883399311202359|3.6417229619092675|3.5539991791349577| 2.8052097723301834|\n",
      "| 5.577540670094567| 4.123396239701686|1.3876979525295747|   2.17359732048922|\n",
      "| 3.331587948014138|  1.76280511263968|6.7531644175017425| 0.5642101995404918|\n",
      "| 6.271668920061315| 2.386062797873478|3.9054932132583495| 0.3690757204916464|\n",
      "|3.5394775761263384|  4.18192260807507| 3.420429691079796| 1.1710838005470356|\n",
      "| 5.725359035191641| 2.466493532971085| 2.077974191620537| 2.9177567923517143|\n",
      "|5.5470366052023135|3.4900094042914382|5.6168654508547995| 2.7027145273659303|\n",
      "+------------------+------------------+------------------+-------------------+\n",
      "\n"
     ]
    }
   ],
   "source": [
    "df_test.show()"
   ]
  },
  {
   "cell_type": "code",
   "execution_count": 102,
   "metadata": {},
   "outputs": [],
   "source": [
    "pipeline1 = Pipeline(stages = [VectorAssembler(inputCols = ['sl', 'sw', 'pl', 'pw'], outputCol='features')])"
   ]
  },
  {
   "cell_type": "code",
   "execution_count": 104,
   "metadata": {},
   "outputs": [],
   "source": [
    "pipeline_test = pipeline1.fit(df_test)"
   ]
  },
  {
   "cell_type": "code",
   "execution_count": 165,
   "metadata": {},
   "outputs": [],
   "source": [
    "model_fit_test = model.fit(df_pipe)"
   ]
  },
  {
   "cell_type": "code",
   "execution_count": 105,
   "metadata": {},
   "outputs": [],
   "source": [
    "df_test_pipe = pipeline_test.transform(df_test)"
   ]
  },
  {
   "cell_type": "code",
   "execution_count": 106,
   "metadata": {},
   "outputs": [
    {
     "name": "stdout",
     "output_type": "stream",
     "text": [
      "+------------------+------------------+------------------+-------------------+--------------------+\n",
      "|                sl|                sw|                pl|                 pw|            features|\n",
      "+------------------+------------------+------------------+-------------------+--------------------+\n",
      "| 5.952638554701469| 3.391935077592834|5.6331131307015205| 2.0021376205324546|[5.95263855470146...|\n",
      "| 4.273048741132579|1.5819270353644987|  3.50990092277556| 1.3228392767742232|[4.27304874113257...|\n",
      "| 4.608715801467209|1.7680092708669597|  4.99404449754477| 0.5462739767305473|[4.60871580146720...|\n",
      "| 3.145316237594371|3.7100617228146215| 6.575223388094388|   0.69459697222841|[3.14531623759437...|\n",
      "| 4.721985695263712| 3.175898238253458|3.5918556463198716|0.04400457110761957|[4.72198569526371...|\n",
      "| 4.085668349202013| 1.532522251817288| 4.668077049254033| 1.9461043549783712|[4.08566834920201...|\n",
      "|  3.34467498040212|3.3750956546196873| 6.652471789734088| 3.6988872810234708|[3.34467498040212...|\n",
      "| 5.424661035856896| 2.461736662464517| 1.962250604862513| 0.4016035609098907|[5.42466103585689...|\n",
      "| 4.883399311202359|3.6417229619092675|3.5539991791349577| 2.8052097723301834|[4.88339931120235...|\n",
      "| 5.577540670094567| 4.123396239701686|1.3876979525295747|   2.17359732048922|[5.57754067009456...|\n",
      "| 3.331587948014138|  1.76280511263968|6.7531644175017425| 0.5642101995404918|[3.33158794801413...|\n",
      "| 6.271668920061315| 2.386062797873478|3.9054932132583495| 0.3690757204916464|[6.27166892006131...|\n",
      "|3.5394775761263384|  4.18192260807507| 3.420429691079796| 1.1710838005470356|[3.53947757612633...|\n",
      "| 5.725359035191641| 2.466493532971085| 2.077974191620537| 2.9177567923517143|[5.72535903519164...|\n",
      "|5.5470366052023135|3.4900094042914382|5.6168654508547995| 2.7027145273659303|[5.54703660520231...|\n",
      "+------------------+------------------+------------------+-------------------+--------------------+\n",
      "\n"
     ]
    }
   ],
   "source": [
    "df_test_pipe.show()"
   ]
  },
  {
   "cell_type": "code",
   "execution_count": 166,
   "metadata": {},
   "outputs": [],
   "source": [
    "prediction1 = model_fit_test.transform(df_test_pipe)"
   ]
  },
  {
   "cell_type": "code",
   "execution_count": 167,
   "metadata": {},
   "outputs": [
    {
     "name": "stdout",
     "output_type": "stream",
     "text": [
      "+----------+\n",
      "|prediction|\n",
      "+----------+\n",
      "|       2.0|\n",
      "|       1.0|\n",
      "|       1.0|\n",
      "|       0.0|\n",
      "|       0.0|\n",
      "|       2.0|\n",
      "|       2.0|\n",
      "|       0.0|\n",
      "|       2.0|\n",
      "|       0.0|\n",
      "|       2.0|\n",
      "|       1.0|\n",
      "|       0.0|\n",
      "|       1.0|\n",
      "|       2.0|\n",
      "+----------+\n",
      "\n"
     ]
    }
   ],
   "source": [
    "prediction1.select('prediction').show()"
   ]
  },
  {
   "cell_type": "code",
   "execution_count": 168,
   "metadata": {},
   "outputs": [],
   "source": [
    "from pyspark.sql.functions import when\n",
    "prediction1 = prediction1.withColumn(\"predicted_variety\", \n",
    "                                     when(prediction1.prediction == 0 ,'Setosa') \\\n",
    "                                    .when(prediction1.prediction == 1 ,'Versicolor') \\\n",
    "                                    .when(prediction1.prediction == 2 ,'Virginica'))"
   ]
  },
  {
   "cell_type": "code",
   "execution_count": 169,
   "metadata": {},
   "outputs": [
    {
     "name": "stdout",
     "output_type": "stream",
     "text": [
      "+----------+-----------------+\n",
      "|prediction|predicted_variety|\n",
      "+----------+-----------------+\n",
      "|       2.0|        Virginica|\n",
      "|       1.0|       Versicolor|\n",
      "|       1.0|       Versicolor|\n",
      "|       0.0|           Setosa|\n",
      "|       0.0|           Setosa|\n",
      "|       2.0|        Virginica|\n",
      "|       2.0|        Virginica|\n",
      "|       0.0|           Setosa|\n",
      "|       2.0|        Virginica|\n",
      "|       0.0|           Setosa|\n",
      "|       2.0|        Virginica|\n",
      "|       1.0|       Versicolor|\n",
      "|       0.0|           Setosa|\n",
      "|       1.0|       Versicolor|\n",
      "|       2.0|        Virginica|\n",
      "+----------+-----------------+\n",
      "\n"
     ]
    }
   ],
   "source": [
    "prediction1.select('prediction', 'predicted_variety').show()"
   ]
  },
  {
   "cell_type": "code",
   "execution_count": 171,
   "metadata": {},
   "outputs": [],
   "source": [
    "sc.stop()"
   ]
  }
 ],
 "metadata": {
  "colab": {
   "name": "Загрузка PySpark.ipynb",
   "provenance": []
  },
  "kernelspec": {
   "display_name": "Python 3 (ipykernel)",
   "language": "python",
   "name": "python3"
  },
  "language_info": {
   "codemirror_mode": {
    "name": "ipython",
    "version": 3
   },
   "file_extension": ".py",
   "mimetype": "text/x-python",
   "name": "python",
   "nbconvert_exporter": "python",
   "pygments_lexer": "ipython3",
   "version": "3.8.10"
  }
 },
 "nbformat": 4,
 "nbformat_minor": 1
}
