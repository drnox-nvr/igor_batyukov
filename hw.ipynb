{
 "cells": [
  {
   "cell_type": "code",
   "execution_count": 2,
   "id": "7d5b22fd-f2df-43bf-b7af-244ec3bfa111",
   "metadata": {},
   "outputs": [],
   "source": [
    "import numpy as np\n",
    "import pandas as pd\n",
    "import matplotlib.pyplot as plt"
   ]
  },
  {
   "cell_type": "code",
   "execution_count": 3,
   "id": "c7a4a2bd-1abc-4d9a-9a44-020340c79d17",
   "metadata": {},
   "outputs": [],
   "source": [
    "dt = np.dtype([('A', 'f4'), ('B', 'f4'), ('C', 'f4'), ('D', 'f4'), ('E', 'U14')])"
   ]
  },
  {
   "cell_type": "code",
   "execution_count": 4,
   "id": "6ac61feb-0817-4fa9-aa4a-2dc96c339e99",
   "metadata": {},
   "outputs": [],
   "source": [
    "set1 = np.genfromtxt('./iris.data', dtype=dt, delimiter=',')"
   ]
  },
  {
   "cell_type": "code",
   "execution_count": 5,
   "id": "d14d4d8f-f541-44ab-ac2b-1401746f7252",
   "metadata": {},
   "outputs": [
    {
     "data": {
      "text/html": [
       "<div>\n",
       "<style scoped>\n",
       "    .dataframe tbody tr th:only-of-type {\n",
       "        vertical-align: middle;\n",
       "    }\n",
       "\n",
       "    .dataframe tbody tr th {\n",
       "        vertical-align: top;\n",
       "    }\n",
       "\n",
       "    .dataframe thead th {\n",
       "        text-align: right;\n",
       "    }\n",
       "</style>\n",
       "<table border=\"1\" class=\"dataframe\">\n",
       "  <thead>\n",
       "    <tr style=\"text-align: right;\">\n",
       "      <th></th>\n",
       "      <th>A</th>\n",
       "      <th>B</th>\n",
       "      <th>C</th>\n",
       "      <th>D</th>\n",
       "      <th>E</th>\n",
       "    </tr>\n",
       "  </thead>\n",
       "  <tbody>\n",
       "    <tr>\n",
       "      <th>0</th>\n",
       "      <td>5.1</td>\n",
       "      <td>3.5</td>\n",
       "      <td>1.4</td>\n",
       "      <td>0.2</td>\n",
       "      <td>Iris-setosa</td>\n",
       "    </tr>\n",
       "    <tr>\n",
       "      <th>1</th>\n",
       "      <td>4.9</td>\n",
       "      <td>3.0</td>\n",
       "      <td>1.4</td>\n",
       "      <td>0.2</td>\n",
       "      <td>Iris-setosa</td>\n",
       "    </tr>\n",
       "    <tr>\n",
       "      <th>2</th>\n",
       "      <td>4.7</td>\n",
       "      <td>3.2</td>\n",
       "      <td>1.3</td>\n",
       "      <td>0.2</td>\n",
       "      <td>Iris-setosa</td>\n",
       "    </tr>\n",
       "    <tr>\n",
       "      <th>3</th>\n",
       "      <td>4.6</td>\n",
       "      <td>3.1</td>\n",
       "      <td>1.5</td>\n",
       "      <td>0.2</td>\n",
       "      <td>Iris-setosa</td>\n",
       "    </tr>\n",
       "    <tr>\n",
       "      <th>4</th>\n",
       "      <td>5.0</td>\n",
       "      <td>3.6</td>\n",
       "      <td>1.4</td>\n",
       "      <td>0.2</td>\n",
       "      <td>Iris-setosa</td>\n",
       "    </tr>\n",
       "    <tr>\n",
       "      <th>...</th>\n",
       "      <td>...</td>\n",
       "      <td>...</td>\n",
       "      <td>...</td>\n",
       "      <td>...</td>\n",
       "      <td>...</td>\n",
       "    </tr>\n",
       "    <tr>\n",
       "      <th>145</th>\n",
       "      <td>6.7</td>\n",
       "      <td>3.0</td>\n",
       "      <td>5.2</td>\n",
       "      <td>2.3</td>\n",
       "      <td>Iris-virginica</td>\n",
       "    </tr>\n",
       "    <tr>\n",
       "      <th>146</th>\n",
       "      <td>6.3</td>\n",
       "      <td>2.5</td>\n",
       "      <td>5.0</td>\n",
       "      <td>1.9</td>\n",
       "      <td>Iris-virginica</td>\n",
       "    </tr>\n",
       "    <tr>\n",
       "      <th>147</th>\n",
       "      <td>6.5</td>\n",
       "      <td>3.0</td>\n",
       "      <td>5.2</td>\n",
       "      <td>2.0</td>\n",
       "      <td>Iris-virginica</td>\n",
       "    </tr>\n",
       "    <tr>\n",
       "      <th>148</th>\n",
       "      <td>6.2</td>\n",
       "      <td>3.4</td>\n",
       "      <td>5.4</td>\n",
       "      <td>2.3</td>\n",
       "      <td>Iris-virginica</td>\n",
       "    </tr>\n",
       "    <tr>\n",
       "      <th>149</th>\n",
       "      <td>5.9</td>\n",
       "      <td>3.0</td>\n",
       "      <td>5.1</td>\n",
       "      <td>1.8</td>\n",
       "      <td>Iris-virginica</td>\n",
       "    </tr>\n",
       "  </tbody>\n",
       "</table>\n",
       "<p>150 rows × 5 columns</p>\n",
       "</div>"
      ],
      "text/plain": [
       "       A    B    C    D               E\n",
       "0    5.1  3.5  1.4  0.2     Iris-setosa\n",
       "1    4.9  3.0  1.4  0.2     Iris-setosa\n",
       "2    4.7  3.2  1.3  0.2     Iris-setosa\n",
       "3    4.6  3.1  1.5  0.2     Iris-setosa\n",
       "4    5.0  3.6  1.4  0.2     Iris-setosa\n",
       "..   ...  ...  ...  ...             ...\n",
       "145  6.7  3.0  5.2  2.3  Iris-virginica\n",
       "146  6.3  2.5  5.0  1.9  Iris-virginica\n",
       "147  6.5  3.0  5.2  2.0  Iris-virginica\n",
       "148  6.2  3.4  5.4  2.3  Iris-virginica\n",
       "149  5.9  3.0  5.1  1.8  Iris-virginica\n",
       "\n",
       "[150 rows x 5 columns]"
      ]
     },
     "execution_count": 5,
     "metadata": {},
     "output_type": "execute_result"
    }
   ],
   "source": [
    "df = pd.DataFrame(set1)\n",
    "df"
   ]
  },
  {
   "cell_type": "code",
   "execution_count": 6,
   "id": "912b356c-aceb-4e65-a7b3-d2945d8a6371",
   "metadata": {},
   "outputs": [
    {
     "data": {
      "text/plain": [
       "A    5.843333\n",
       "B    3.054000\n",
       "C    3.758667\n",
       "D    1.198667\n",
       "dtype: float32"
      ]
     },
     "execution_count": 6,
     "metadata": {},
     "output_type": "execute_result"
    }
   ],
   "source": [
    "df[['A', 'B', 'C', 'D']].mean()"
   ]
  },
  {
   "cell_type": "code",
   "execution_count": 7,
   "id": "7a303f36-383e-4ace-86b2-d9c9d663c2b6",
   "metadata": {},
   "outputs": [
    {
     "data": {
      "text/plain": [
       "A    4.3\n",
       "B    2.0\n",
       "C    1.0\n",
       "D    0.1\n",
       "dtype: float32"
      ]
     },
     "execution_count": 7,
     "metadata": {},
     "output_type": "execute_result"
    }
   ],
   "source": [
    "df[['A', 'B', 'C', 'D']].min()"
   ]
  },
  {
   "cell_type": "code",
   "execution_count": 8,
   "id": "5c8db220-1c4c-44b1-8349-0aae8d540a7d",
   "metadata": {},
   "outputs": [
    {
     "data": {
      "text/plain": [
       "A    7.9\n",
       "B    4.4\n",
       "C    6.9\n",
       "D    2.5\n",
       "dtype: float32"
      ]
     },
     "execution_count": 8,
     "metadata": {},
     "output_type": "execute_result"
    }
   ],
   "source": [
    "df[['A', 'B', 'C', 'D']].max()"
   ]
  },
  {
   "cell_type": "code",
   "execution_count": 9,
   "id": "f0cc6656-9639-4f1a-b8fd-1fd25c3e59eb",
   "metadata": {},
   "outputs": [
    {
     "data": {
      "text/plain": [
       "A    5.80\n",
       "B    3.00\n",
       "C    4.35\n",
       "D    1.30\n",
       "dtype: float32"
      ]
     },
     "execution_count": 9,
     "metadata": {},
     "output_type": "execute_result"
    }
   ],
   "source": [
    "df[['A', 'B', 'C', 'D']].median()"
   ]
  },
  {
   "cell_type": "code",
   "execution_count": 6,
   "id": "6d56e377-03b4-40f9-858f-52230cfc2797",
   "metadata": {},
   "outputs": [
    {
     "data": {
      "text/plain": [
       "5.099999904632568"
      ]
     },
     "execution_count": 6,
     "metadata": {},
     "output_type": "execute_result"
    }
   ],
   "source": [
    "np.percentile(df[['A']], 25)"
   ]
  },
  {
   "cell_type": "code",
   "execution_count": 7,
   "id": "9bd7e32e-2326-4eef-8a45-1f27baf0cc4e",
   "metadata": {},
   "outputs": [
    {
     "data": {
      "text/plain": [
       "2.799999952316284"
      ]
     },
     "execution_count": 7,
     "metadata": {},
     "output_type": "execute_result"
    }
   ],
   "source": [
    "np.percentile(df[['B']], 25)"
   ]
  },
  {
   "cell_type": "code",
   "execution_count": 8,
   "id": "767aebd1-7420-4628-a776-3782a76771f1",
   "metadata": {},
   "outputs": [
    {
     "data": {
      "text/plain": [
       "1.600000023841858"
      ]
     },
     "execution_count": 8,
     "metadata": {},
     "output_type": "execute_result"
    }
   ],
   "source": [
    "np.percentile(df[['C']], 25)"
   ]
  },
  {
   "cell_type": "code",
   "execution_count": 9,
   "id": "3831279d-53e7-4e0f-9fea-afdc19b35d3d",
   "metadata": {},
   "outputs": [
    {
     "data": {
      "text/plain": [
       "0.30000001192092896"
      ]
     },
     "execution_count": 9,
     "metadata": {},
     "output_type": "execute_result"
    }
   ],
   "source": [
    "np.percentile(df[['D']], 25)"
   ]
  },
  {
   "cell_type": "code",
   "execution_count": 10,
   "id": "6a74e970-45d4-41a4-924e-8b3b6336237b",
   "metadata": {},
   "outputs": [
    {
     "data": {
      "text/plain": [
       "6.400000095367432"
      ]
     },
     "execution_count": 10,
     "metadata": {},
     "output_type": "execute_result"
    }
   ],
   "source": [
    "np.percentile(df[['A']], 75)"
   ]
  },
  {
   "cell_type": "code",
   "execution_count": 11,
   "id": "e6d01611-a7e2-46b9-8bd5-3444a04a07f9",
   "metadata": {},
   "outputs": [
    {
     "data": {
      "text/plain": [
       "3.299999952316284"
      ]
     },
     "execution_count": 11,
     "metadata": {},
     "output_type": "execute_result"
    }
   ],
   "source": [
    "np.percentile(df[['B']], 75)"
   ]
  },
  {
   "cell_type": "code",
   "execution_count": 12,
   "id": "7ef44da2-491f-4ab5-9392-336c0405dffd",
   "metadata": {},
   "outputs": [
    {
     "data": {
      "text/plain": [
       "5.099999904632568"
      ]
     },
     "execution_count": 12,
     "metadata": {},
     "output_type": "execute_result"
    }
   ],
   "source": [
    "np.percentile(df[['C']], 75)"
   ]
  },
  {
   "cell_type": "code",
   "execution_count": 13,
   "id": "4fe2f8f4-d3a6-41c0-8500-725cd57a54b3",
   "metadata": {},
   "outputs": [
    {
     "data": {
      "text/plain": [
       "1.7999999523162842"
      ]
     },
     "execution_count": 13,
     "metadata": {},
     "output_type": "execute_result"
    }
   ],
   "source": [
    "np.percentile(df[['D']], 75)"
   ]
  },
  {
   "cell_type": "code",
   "execution_count": 103,
   "id": "43f17ca3",
   "metadata": {},
   "outputs": [
    {
     "data": {
      "text/plain": [
       "<function matplotlib.pyplot.show(close=None, block=None)>"
      ]
     },
     "execution_count": 103,
     "metadata": {},
     "output_type": "execute_result"
    },
    {
     "data": {
      "image/png": "[encoded data removed]",
      "text/plain": [
       "<Figure size 432x288 with 1 Axes>"
      ]
     },
     "metadata": {
      "needs_background": "light"
     },
     "output_type": "display_data"
    }
   ],
   "source": [
    "plt.hist(df.A, bins = 30, density=1)\n",
    "plt.grid(True)\n",
    "plt.show"
   ]
  },
  {
   "cell_type": "code",
   "execution_count": 102,
   "id": "3b4641fd",
   "metadata": {},
   "outputs": [
    {
     "data": {
      "text/plain": [
       "<function matplotlib.pyplot.show(close=None, block=None)>"
      ]
     },
     "execution_count": 102,
     "metadata": {},
     "output_type": "execute_result"
    },
    {
     "data": {
      "image/png": "[encoded data removed]",
      "text/plain": [
       "<Figure size 432x288 with 1 Axes>"
      ]
     },
     "metadata": {
      "needs_background": "light"
     },
     "output_type": "display_data"
    }
   ],
   "source": [
    "plt.hist(df.B, bins = 30)\n",
    "plt.grid(True)\n",
    "plt.show"
   ]
  },
  {
   "cell_type": "code",
   "execution_count": 101,
   "id": "002898fd",
   "metadata": {},
   "outputs": [
    {
     "data": {
      "text/plain": [
       "<function matplotlib.pyplot.show(close=None, block=None)>"
      ]
     },
     "execution_count": 101,
     "metadata": {},
     "output_type": "execute_result"
    },
    {
     "data": {
      "image/png": "[encoded data removed]",
      "text/plain": [
       "<Figure size 432x288 with 1 Axes>"
      ]
     },
     "metadata": {
      "needs_background": "light"
     },
     "output_type": "display_data"
    }
   ],
   "source": [
    "plt.hist(df.C, bins = 30)\n",
    "plt.grid(True)\n",
    "plt.show"
   ]
  },
  {
   "cell_type": "code",
   "execution_count": 100,
   "id": "f26c034e",
   "metadata": {},
   "outputs": [
    {
     "data": {
      "text/plain": [
       "<function matplotlib.pyplot.show(close=None, block=None)>"
      ]
     },
     "execution_count": 100,
     "metadata": {},
     "output_type": "execute_result"
    },
    {
     "data": {
      "image/png": "[encoded data removed]",
      "text/plain": [
       "<Figure size 432x288 with 1 Axes>"
      ]
     },
     "metadata": {
      "needs_background": "light"
     },
     "output_type": "display_data"
    }
   ],
   "source": [
    "plt.hist(df.D, bins = 30)\n",
    "plt.grid(True)\n",
    "plt.show"
   ]
  },
  {
   "cell_type": "code",
   "execution_count": 14,
   "id": "6e7c90fa-fb76-4c1d-8503-90f7c05c1873",
   "metadata": {},
   "outputs": [
    {
     "data": {
      "text/html": [
       "<div>\n",
       "<style scoped>\n",
       "    .dataframe tbody tr th:only-of-type {\n",
       "        vertical-align: middle;\n",
       "    }\n",
       "\n",
       "    .dataframe tbody tr th {\n",
       "        vertical-align: top;\n",
       "    }\n",
       "\n",
       "    .dataframe thead th {\n",
       "        text-align: right;\n",
       "    }\n",
       "</style>\n",
       "<table border=\"1\" class=\"dataframe\">\n",
       "  <thead>\n",
       "    <tr style=\"text-align: right;\">\n",
       "      <th></th>\n",
       "      <th>A</th>\n",
       "      <th>B</th>\n",
       "      <th>C</th>\n",
       "      <th>D</th>\n",
       "    </tr>\n",
       "    <tr>\n",
       "      <th>E</th>\n",
       "      <th></th>\n",
       "      <th></th>\n",
       "      <th></th>\n",
       "      <th></th>\n",
       "    </tr>\n",
       "  </thead>\n",
       "  <tbody>\n",
       "    <tr>\n",
       "      <th>Iris-setosa</th>\n",
       "      <td>250.300003</td>\n",
       "      <td>170.899994</td>\n",
       "      <td>73.199997</td>\n",
       "      <td>12.200000</td>\n",
       "    </tr>\n",
       "    <tr>\n",
       "      <th>Iris-versicolo</th>\n",
       "      <td>296.799988</td>\n",
       "      <td>138.500000</td>\n",
       "      <td>213.000000</td>\n",
       "      <td>66.300003</td>\n",
       "    </tr>\n",
       "    <tr>\n",
       "      <th>Iris-virginica</th>\n",
       "      <td>329.399994</td>\n",
       "      <td>148.699997</td>\n",
       "      <td>277.600006</td>\n",
       "      <td>101.299995</td>\n",
       "    </tr>\n",
       "  </tbody>\n",
       "</table>\n",
       "</div>"
      ],
      "text/plain": [
       "                         A           B           C           D\n",
       "E                                                             \n",
       "Iris-setosa     250.300003  170.899994   73.199997   12.200000\n",
       "Iris-versicolo  296.799988  138.500000  213.000000   66.300003\n",
       "Iris-virginica  329.399994  148.699997  277.600006  101.299995"
      ]
     },
     "execution_count": 14,
     "metadata": {},
     "output_type": "execute_result"
    }
   ],
   "source": [
    "dfgr = df.groupby(['E']).sum()\n",
    "dfgr"
   ]
  },
  {
   "cell_type": "code",
   "execution_count": null,
   "id": "676bff7a",
   "metadata": {},
   "outputs": [],
   "source": []
  },
  {
   "cell_type": "code",
   "execution_count": 59,
   "id": "633b5e6c",
   "metadata": {},
   "outputs": [
    {
     "data": {
      "text/plain": [
       "A    250.300003\n",
       "B    138.500000\n",
       "C     73.199997\n",
       "D     12.200000\n",
       "dtype: float32"
      ]
     },
     "execution_count": 59,
     "metadata": {},
     "output_type": "execute_result"
    }
   ],
   "source": [
    "dfgr[['A', 'B', 'C', 'D']].min()"
   ]
  },
  {
   "cell_type": "code",
   "execution_count": 60,
   "id": "11cb0ddb",
   "metadata": {},
   "outputs": [
    {
     "data": {
      "text/plain": [
       "A    329.399994\n",
       "B    170.899994\n",
       "C    277.600006\n",
       "D    101.299995\n",
       "dtype: float32"
      ]
     },
     "execution_count": 60,
     "metadata": {},
     "output_type": "execute_result"
    }
   ],
   "source": [
    "dfgr[['A', 'B', 'C', 'D']].max()"
   ]
  },
  {
   "cell_type": "code",
   "execution_count": 61,
   "id": "0d3dbf6c",
   "metadata": {},
   "outputs": [
    {
     "data": {
      "text/plain": [
       "A    292.166656\n",
       "B    152.699997\n",
       "C    187.933350\n",
       "D     59.933331\n",
       "dtype: float32"
      ]
     },
     "execution_count": 61,
     "metadata": {},
     "output_type": "execute_result"
    }
   ],
   "source": [
    "dfgr[['A', 'B', 'C', 'D']].mean()"
   ]
  },
  {
   "cell_type": "code",
   "execution_count": 15,
   "id": "d3b71a39",
   "metadata": {},
   "outputs": [
    {
     "data": {
      "text/plain": [
       "273.5499954223633"
      ]
     },
     "execution_count": 15,
     "metadata": {},
     "output_type": "execute_result"
    }
   ],
   "source": [
    "np.percentile(dfgr[['A']], 25)"
   ]
  },
  {
   "cell_type": "code",
   "execution_count": 16,
   "id": "9404d891",
   "metadata": {},
   "outputs": [
    {
     "data": {
      "text/plain": [
       "143.5999984741211"
      ]
     },
     "execution_count": 16,
     "metadata": {},
     "output_type": "execute_result"
    }
   ],
   "source": [
    "np.percentile(dfgr[['B']], 25)"
   ]
  },
  {
   "cell_type": "code",
   "execution_count": 17,
   "id": "aabaa933",
   "metadata": {},
   "outputs": [
    {
     "data": {
      "text/plain": [
       "143.0999984741211"
      ]
     },
     "execution_count": 17,
     "metadata": {},
     "output_type": "execute_result"
    }
   ],
   "source": [
    "np.percentile(dfgr[['C']], 25)"
   ]
  },
  {
   "cell_type": "code",
   "execution_count": 18,
   "id": "fa958367",
   "metadata": {},
   "outputs": [
    {
     "data": {
      "text/plain": [
       "39.25000190734863"
      ]
     },
     "execution_count": 18,
     "metadata": {},
     "output_type": "execute_result"
    }
   ],
   "source": [
    "np.percentile(dfgr[['D']], 25)"
   ]
  },
  {
   "cell_type": "code",
   "execution_count": 19,
   "id": "18aeac66",
   "metadata": {},
   "outputs": [
    {
     "data": {
      "text/plain": [
       "313.09999084472656"
      ]
     },
     "execution_count": 19,
     "metadata": {},
     "output_type": "execute_result"
    }
   ],
   "source": [
    "np.percentile(dfgr[['A']], 75)"
   ]
  },
  {
   "cell_type": "code",
   "execution_count": 20,
   "id": "962e8fcc",
   "metadata": {},
   "outputs": [
    {
     "data": {
      "text/plain": [
       "159.79999542236328"
      ]
     },
     "execution_count": 20,
     "metadata": {},
     "output_type": "execute_result"
    }
   ],
   "source": [
    "np.percentile(dfgr[['B']], 75)"
   ]
  },
  {
   "cell_type": "code",
   "execution_count": 21,
   "id": "6ead6778",
   "metadata": {},
   "outputs": [
    {
     "data": {
      "text/plain": [
       "245.3000030517578"
      ]
     },
     "execution_count": 21,
     "metadata": {},
     "output_type": "execute_result"
    }
   ],
   "source": [
    "np.percentile(dfgr[['C']], 75)"
   ]
  },
  {
   "cell_type": "code",
   "execution_count": 22,
   "id": "85fe179f",
   "metadata": {},
   "outputs": [
    {
     "data": {
      "text/plain": [
       "83.79999923706055"
      ]
     },
     "execution_count": 22,
     "metadata": {},
     "output_type": "execute_result"
    }
   ],
   "source": [
    "np.percentile(dfgr[['D']], 75)"
   ]
  },
  {
   "cell_type": "code",
   "execution_count": 112,
   "id": "064653f1",
   "metadata": {},
   "outputs": [
    {
     "data": {
      "text/plain": [
       "<function matplotlib.pyplot.show(close=None, block=None)>"
      ]
     },
     "execution_count": 112,
     "metadata": {},
     "output_type": "execute_result"
    },
    {
     "data": {
      "image/png": "[encoded data removed]",
      "text/plain": [
       "<Figure size 432x288 with 1 Axes>"
      ]
     },
     "metadata": {
      "needs_background": "light"
     },
     "output_type": "display_data"
    }
   ],
   "source": [
    "plt.hist(dfgr.A)\n",
    "plt.grid(True)\n",
    "plt.xlabel('Data')\n",
    "plt.show"
   ]
  },
  {
   "cell_type": "code",
   "execution_count": 85,
   "id": "7345f828",
   "metadata": {},
   "outputs": [
    {
     "data": {
      "text/plain": [
       "<function matplotlib.pyplot.show(close=None, block=None)>"
      ]
     },
     "execution_count": 85,
     "metadata": {},
     "output_type": "execute_result"
    },
    {
     "data": {
      "image/png": "[encoded data removed]",
      "text/plain": [
       "<Figure size 432x288 with 1 Axes>"
      ]
     },
     "metadata": {
      "needs_background": "light"
     },
     "output_type": "display_data"
    }
   ],
   "source": [
    "plt.hist(dfgr.B)\n",
    "plt.grid(True)\n",
    "plt.xlabel('Data')\n",
    "plt.show"
   ]
  },
  {
   "cell_type": "code",
   "execution_count": 86,
   "id": "d7cfe50b",
   "metadata": {},
   "outputs": [
    {
     "data": {
      "text/plain": [
       "<function matplotlib.pyplot.show(close=None, block=None)>"
      ]
     },
     "execution_count": 86,
     "metadata": {},
     "output_type": "execute_result"
    },
    {
     "data": {
      "image/png": "[encoded data removed]",
      "text/plain": [
       "<Figure size 432x288 with 1 Axes>"
      ]
     },
     "metadata": {
      "needs_background": "light"
     },
     "output_type": "display_data"
    }
   ],
   "source": [
    "plt.hist(dfgr.C)\n",
    "plt.grid(True)\n",
    "plt.xlabel('Data')\n",
    "plt.show"
   ]
  },
  {
   "cell_type": "code",
   "execution_count": 96,
   "id": "e50250e6",
   "metadata": {},
   "outputs": [
    {
     "data": {
      "text/plain": [
       "<function matplotlib.pyplot.show(close=None, block=None)>"
      ]
     },
     "execution_count": 96,
     "metadata": {},
     "output_type": "execute_result"
    },
    {
     "data": {
      "image/png": "[encoded data removed]",
      "text/plain": [
       "<Figure size 432x288 with 1 Axes>"
      ]
     },
     "metadata": {
      "needs_background": "light"
     },
     "output_type": "display_data"
    }
   ],
   "source": [
    "plt.hist(dfgr.A)\n",
    "plt.hist(dfgr.B)\n",
    "plt.hist(dfgr.C)\n",
    "plt.hist(dfgr.D)\n",
    "plt.grid(True)\n",
    "plt.xlabel('Data')\n",
    "plt.show"
   ]
  },
  {
   "cell_type": "code",
   "execution_count": null,
   "id": "9ed30c28",
   "metadata": {},
   "outputs": [],
   "source": []
  }
 ],
 "metadata": {
  "kernelspec": {
   "display_name": "Python 3 (ipykernel)",
   "language": "python",
   "name": "python3"
  },
  "language_info": {
   "codemirror_mode": {
    "name": "ipython",
    "version": 3
   },
   "file_extension": ".py",
   "mimetype": "text/x-python",
   "name": "python",
   "nbconvert_exporter": "python",
   "pygments_lexer": "ipython3",
   "version": "3.9.0"
  }
 },
 "nbformat": 4,
 "nbformat_minor": 5
}
